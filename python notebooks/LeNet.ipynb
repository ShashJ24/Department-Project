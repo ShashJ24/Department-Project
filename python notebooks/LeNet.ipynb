{
  "cells": [
    {
      "cell_type": "markdown",
      "source": [
        "**<h1>This notebook creates LeNet model architecture and trains it on MNIST dataset to extract weights</h1>**"
      ],
      "metadata": {
        "id": "mJYeLWBdfoz-"
      }
    },
    {
      "cell_type": "markdown",
      "source": [
        "*LeNet weights are hard to find on the internet, therefore we train a LeNet model on this notebook and extract the required weights*"
      ],
      "metadata": {
        "id": "Mnxh8THRgKVS"
      }
    },
    {
      "cell_type": "markdown",
      "source": [
        "**Loading MNIST data**"
      ],
      "metadata": {
        "id": "9br-ztkhgeXy"
      }
    },
    {
      "cell_type": "code",
      "execution_count": 1,
      "metadata": {
        "colab": {
          "base_uri": "https://localhost:8080/"
        },
        "id": "C-V0RFT-GEkd",
        "outputId": "358f2274-b631-4f1f-9652-a23260345015"
      },
      "outputs": [
        {
          "output_type": "stream",
          "name": "stdout",
          "text": [
            "Downloading data from https://storage.googleapis.com/tensorflow/tf-keras-datasets/mnist.npz\n",
            "11490434/11490434 [==============================] - 1s 0us/step\n",
            "X_train shape (60000, 28, 28, 3) X_test shape (10000, 28, 28, 3)\n"
          ]
        }
      ],
      "source": [
        "import numpy as np\n",
        "from keras.datasets import mnist\n",
        "(X_train,y_train),(X_test,y_test)=mnist.load_data()\n",
        "# Create a new 4D tensor with shape (20000, height, width, 3)\n",
        "X_train = np.repeat(X_train[:, :, :, np.newaxis], 3, axis=-1)\n",
        "X_test = np.repeat(X_test[:, :, :, np.newaxis], 3, axis=-1)\n",
        "print('X_train shape', X_train.shape, 'X_test shape', X_test.shape)"
      ]
    },
    {
      "cell_type": "markdown",
      "source": [
        "*Uncomment this code block to convert 3d image array with square brackets to an image array with curly for compatibility with c++ codes*"
      ],
      "metadata": {
        "id": "u1PIdXHpkBYO"
      }
    },
    {
      "cell_type": "code",
      "source": [
        "# import numpy as np\n",
        "\n",
        "# # Save the 3D numpy image array  to a .npy file\n",
        "# np.save('image_raw.npy', X_test[328])\n",
        "\n",
        "\n",
        "# # Load the 3D numpy array from the .npy file\n",
        "# data = np.load('/content/image_raw.npy')\n",
        "\n",
        "\n",
        "# # This code converts numpy image array into c++ compatible image array and stores the values in a text file\n",
        "\n",
        "# # Open a file for writing\n",
        "# with open('img_output.txt', 'w') as file:\n",
        "#     file.write('{\\n')\n",
        "\n",
        "#     # Iterate over each 2D array (slice) in the 3D array\n",
        "#     for slice_2d in data:\n",
        "#         file.write('\\t{\\n')\n",
        "\n",
        "#         # Iterate over each row in the 2D array\n",
        "#         for i, row in enumerate(slice_2d):\n",
        "#             file.write('\\t\\t{ ')\n",
        "\n",
        "#             # Write each value in the row\n",
        "#             for j, value in enumerate(row):\n",
        "#                 file.write(str(value))\n",
        "\n",
        "#                 # Add comma if it's not the last element of the row\n",
        "#                 if j < len(row) - 1:\n",
        "#                     file.write(', ')\n",
        "\n",
        "#             # Add comma if it's not the last row vector in the 2D array\n",
        "#             if i < len(slice_2d) - 1:\n",
        "#                 file.write('},\\n')\n",
        "#             else:\n",
        "#                 file.write('}\\n')\n",
        "\n",
        "#         file.write('\\t}')\n",
        "\n",
        "#         # Add comma if it's not the last 2D array in the 3D array\n",
        "#         if not np.array_equal(slice_2d, data[-1]):\n",
        "#             file.write(',\\n')\n",
        "#         else:\n",
        "#             file.write('\\n')\n",
        "\n",
        "#     file.write('}')\n"
      ],
      "metadata": {
        "id": "aMw7uF7J7bht"
      },
      "execution_count": 11,
      "outputs": []
    },
    {
      "cell_type": "markdown",
      "source": [
        "**Taking a look at some random images from trainig set**"
      ],
      "metadata": {
        "id": "VxaOeP3jhOEP"
      }
    },
    {
      "cell_type": "code",
      "execution_count": 2,
      "metadata": {
        "colab": {
          "base_uri": "https://localhost:8080/",
          "height": 448
        },
        "id": "vNWYnU4kG33F",
        "outputId": "40310b13-008f-4471-bbe3-84efa4b1010a"
      },
      "outputs": [
        {
          "output_type": "display_data",
          "data": {
            "text/plain": [
              "<Figure size 1200x500 with 8 Axes>"
            ],
            "image/png": "[encoded data removed]"
          },
          "metadata": {}
        }
      ],
      "source": [
        "import matplotlib.pyplot as plt\n",
        "import random\n",
        "plt.figure(figsize=(12,5))\n",
        "\n",
        "for i in range(8):\n",
        "  ind=random.randint(0,len(X_train))\n",
        "  plt.subplot(2,4,i+1)\n",
        "  plt.imshow(X_train[ind])"
      ]
    },
    {
      "cell_type": "markdown",
      "source": [
        "**Function for preprocessing input images**"
      ],
      "metadata": {
        "id": "kscgYUeRhpqF"
      }
    },
    {
      "cell_type": "code",
      "execution_count": 3,
      "metadata": {
        "id": "nuowR8JRI-ju"
      },
      "outputs": [],
      "source": [
        "from keras.utils import to_categorical\n",
        "def preprocess_data(X_train,y_train,X_test,y_test):\n",
        "\n",
        "  # convert image values from integers to floats\n",
        "  X_train = X_train.astype('float32')\n",
        "  X_test = X_test.astype('float32')\n",
        "\n",
        "  # Normalizing\n",
        "  X_train=X_train/255\n",
        "  X_test=X_test/255\n",
        "\n",
        "  # One hot encoding\n",
        "  y_train=to_categorical(y_train)\n",
        "  y_test=to_categorical(y_test)\n",
        "\n",
        "  return X_train,y_train, X_test, y_test\n"
      ]
    },
    {
      "cell_type": "markdown",
      "source": [
        "**Defining LeNet model's architecture**"
      ],
      "metadata": {
        "id": "cS-7w-zDh1LV"
      }
    },
    {
      "cell_type": "code",
      "execution_count": 5,
      "metadata": {
        "id": "GoH4XtWpthbm"
      },
      "outputs": [],
      "source": [
        "import tensorflow as tf\n",
        "from tensorflow.keras.models import Sequential\n",
        "from tensorflow.keras.layers import Conv2D, MaxPooling2D, Flatten, Dense\n",
        "from tensorflow.keras.optimizers import SGD\n",
        "from tensorflow.keras.metrics import categorical_crossentropy\n",
        "\n",
        "def LeNet():\n",
        "  model = Sequential([\n",
        "      Conv2D(6,kernel_size=5,activation='relu',padding='same',input_shape=(28,28,3)),\n",
        "\n",
        "      MaxPooling2D(pool_size=2),\n",
        "\n",
        "      Conv2D(16,kernel_size=5,activation='relu'),\n",
        "\n",
        "      MaxPooling2D(pool_size = (2,2)),\n",
        "\n",
        "      Flatten(),\n",
        "\n",
        "      Dense(120,activation='relu'),\n",
        "\n",
        "      Dense(10,activation='softmax'),\n",
        "  ])\n",
        "\n",
        "\n",
        "  model.compile(loss = categorical_crossentropy,\n",
        "                optimizer = tf.keras.optimizers.Adam(0.01),\n",
        "                metrics = ['accuracy'])\n",
        "\n",
        "  return model"
      ]
    },
    {
      "cell_type": "markdown",
      "source": [
        "**Analysing model parameters**"
      ],
      "metadata": {
        "id": "_xDzkW-oiEzj"
      }
    },
    {
      "cell_type": "code",
      "execution_count": 6,
      "metadata": {
        "colab": {
          "base_uri": "https://localhost:8080/"
        },
        "id": "o2muZP3xtui9",
        "outputId": "86f74098-2777-4221-9e65-f8c19a624887"
      },
      "outputs": [
        {
          "output_type": "stream",
          "name": "stdout",
          "text": [
            "Model: \"sequential\"\n",
            "_________________________________________________________________\n",
            " Layer (type)                Output Shape              Param #   \n",
            "=================================================================\n",
            " conv2d (Conv2D)             (None, 28, 28, 6)         456       \n",
            "                                                                 \n",
            " max_pooling2d (MaxPooling2  (None, 14, 14, 6)         0         \n",
            " D)                                                              \n",
            "                                                                 \n",
            " conv2d_1 (Conv2D)           (None, 10, 10, 16)        2416      \n",
            "                                                                 \n",
            " max_pooling2d_1 (MaxPoolin  (None, 5, 5, 16)          0         \n",
            " g2D)                                                            \n",
            "                                                                 \n",
            " flatten (Flatten)           (None, 400)               0         \n",
            "                                                                 \n",
            " dense (Dense)               (None, 120)               48120     \n",
            "                                                                 \n",
            " dense_1 (Dense)             (None, 10)                1210      \n",
            "                                                                 \n",
            "=================================================================\n",
            "Total params: 52202 (203.91 KB)\n",
            "Trainable params: 52202 (203.91 KB)\n",
            "Non-trainable params: 0 (0.00 Byte)\n",
            "_________________________________________________________________\n"
          ]
        }
      ],
      "source": [
        "lenet_model=LeNet()\n",
        "\n",
        "lenet_model.summary()"
      ]
    },
    {
      "cell_type": "markdown",
      "source": [
        "**Defining function to train the model**"
      ],
      "metadata": {
        "id": "d_Z1QjtWiOlK"
      }
    },
    {
      "cell_type": "code",
      "execution_count": 7,
      "metadata": {
        "id": "2oO0gvA7Q0E1"
      },
      "outputs": [],
      "source": [
        "import numpy as np\n",
        "\n",
        "def train_model(model, X_train,y_train,X_test,y_test,epochs=2,batch_size=128):\n",
        "  X_train,y_train,X_test,y_test=preprocess_data(X_train,y_train, X_test, y_test)\n",
        "  history = model.fit(X_train, y_train, epochs = epochs, batch_size = batch_size,\n",
        "                      steps_per_epoch = X_train.shape[0]//batch_size,\n",
        "                      validation_data = (X_test, y_test),\n",
        "                      validation_steps = X_test.shape[0]//batch_size, verbose = 1)\n",
        "  y_pred=model.predict(X_test)\n",
        "  # Save the weights after training\n",
        "  model.save_weights('model_weights.h5')\n",
        "  ans=[]\n",
        "  for i in range(len(y_pred)):\n",
        "    ans.append(np.argmax(y_pred[i]))\n",
        "\n",
        "  return ans\n",
        "\n"
      ]
    },
    {
      "cell_type": "markdown",
      "source": [
        "**Training the model for two epochs**"
      ],
      "metadata": {
        "id": "GuGXlAh1iXqH"
      }
    },
    {
      "cell_type": "code",
      "execution_count": 8,
      "metadata": {
        "colab": {
          "base_uri": "https://localhost:8080/"
        },
        "id": "Vkb7HZoUTept",
        "outputId": "3708f3c6-8f6b-4a15-dfca-4e8cd3cc70bc"
      },
      "outputs": [
        {
          "output_type": "stream",
          "name": "stdout",
          "text": [
            "Epoch 1/2\n",
            "468/468 [==============================] - 47s 99ms/step - loss: 0.1363 - accuracy: 0.9577 - val_loss: 0.0711 - val_accuracy: 0.9788\n",
            "Epoch 2/2\n",
            "468/468 [==============================] - 41s 88ms/step - loss: 0.0670 - accuracy: 0.9798 - val_loss: 0.0558 - val_accuracy: 0.9838\n",
            "313/313 [==============================] - 3s 10ms/step\n"
          ]
        }
      ],
      "source": [
        "y_pred=train_model(lenet_model,X_train,y_train,X_test,y_test)"
      ]
    },
    {
      "cell_type": "markdown",
      "source": [
        "**Printing accuracy of the model**"
      ],
      "metadata": {
        "id": "EuHYOdysijpK"
      }
    },
    {
      "cell_type": "code",
      "execution_count": 9,
      "metadata": {
        "colab": {
          "base_uri": "https://localhost:8080/"
        },
        "id": "lMcwin6vYLNR",
        "outputId": "025997b0-7a0d-4f15-9101-e29c905ef871"
      },
      "outputs": [
        {
          "output_type": "stream",
          "name": "stdout",
          "text": [
            "98.38\n"
          ]
        }
      ],
      "source": [
        "from sklearn.metrics import accuracy_score\n",
        "print(accuracy_score(y_pred,y_test)*100)"
      ]
    },
    {
      "cell_type": "markdown",
      "source": [
        "**Uncomment this code block to see which images have been misclassified**"
      ],
      "metadata": {
        "id": "3ricMzasjbCf"
      }
    },
    {
      "cell_type": "code",
      "execution_count": 12,
      "metadata": {
        "id": "0-AnWICVViTP"
      },
      "outputs": [],
      "source": [
        "# # Code to see misclassified images\n",
        "# for i in range(len(X_test)):\n",
        "#   if(y_test[i]!=y_pred[i]):\n",
        "#     plt.imshow(X_test[i])\n",
        "#     plt.title(\"predicted: \" + str(y_pred[i]) + \" Actual: \" + str(y_test[i]))\n",
        "#     plt.show()\n"
      ]
    },
    {
      "cell_type": "markdown",
      "source": [
        "**We successfully created LeNet model to classify numbers from 0 to 9**"
      ],
      "metadata": {
        "id": "UFNw06U5jEDo"
      }
    }
  ],
  "metadata": {
    "colab": {
      "provenance": []
    },
    "kernelspec": {
      "display_name": "Python 3",
      "name": "python3"
    },
    "language_info": {
      "name": "python"
    }
  },
  "nbformat": 4,
  "nbformat_minor": 0
}