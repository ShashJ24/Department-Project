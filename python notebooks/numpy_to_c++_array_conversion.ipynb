{
  "nbformat": 4,
  "nbformat_minor": 0,
  "metadata": {
    "colab": {
      "provenance": []
    },
    "kernelspec": {
      "name": "python3",
      "display_name": "Python 3"
    },
    "language_info": {
      "name": "python"
    }
  },
  "cells": [
    {
      "cell_type": "markdown",
      "source": [
        "**<h1>This code converts numpy array(with square brackets) to c/c++ compatible arrays (with curly brackets)</h1>**"
      ],
      "metadata": {
        "id": "lLPA8LwKanmW"
      }
    },
    {
      "cell_type": "markdown",
      "source": [
        "**Code for 4d numpy arrays**"
      ],
      "metadata": {
        "id": "3iDnj4UVIBk8"
      }
    },
    {
      "cell_type": "code",
      "execution_count": 1,
      "metadata": {
        "id": "j3wDuFt68jgt"
      },
      "outputs": [],
      "source": [
        "import numpy as np\n",
        "\n",
        "# Load the array from the numpy file\n",
        "data = np.load('/content/f1.npy')\n",
        "\n",
        "# Configure printing options to disable truncation\n",
        "np.set_printoptions(threshold=np.inf)\n",
        "\n",
        "# Open a file for writing\n",
        "with open('f1.txt', 'w') as file:\n",
        "    file.write('{\\n')\n",
        "\n",
        "    # Iterate over each 3D subarray (volume) in the 4D array\n",
        "    for volume_3d in data:\n",
        "        file.write('\\t{\\n')\n",
        "\n",
        "        # Iterate over each 2D array (slice) in the 3D subarray\n",
        "        for slice_2d in volume_3d:\n",
        "            file.write('\\t\\t{\\n')\n",
        "\n",
        "            # Iterate over each row in the 2D array\n",
        "            for i, row in enumerate(slice_2d):\n",
        "                file.write('\\t\\t\\t{ ')\n",
        "\n",
        "                # Write each value in the row\n",
        "                for j, value in enumerate(row):\n",
        "                    file.write(str(value))\n",
        "\n",
        "                    # Add comma if it's not the last element of the row\n",
        "                    if j < len(row) - 1:\n",
        "                        file.write(', ')\n",
        "\n",
        "                # Add comma if it's not the last row vector in the 2D array\n",
        "                if i < len(slice_2d) - 1:\n",
        "                    file.write('},\\n')\n",
        "                else:\n",
        "                    file.write('}\\n')\n",
        "\n",
        "            file.write('\\t\\t}')\n",
        "\n",
        "            # Add comma if it's not the last 2D array (slice) in the 3D subarray (volume)\n",
        "            if not np.array_equal(slice_2d, volume_3d[-1]):\n",
        "                file.write(',\\n')\n",
        "            else:\n",
        "                file.write('\\n')\n",
        "\n",
        "        file.write('\\t}')\n",
        "\n",
        "        # Add comma if it's not the last 3D subarray (volume) in the 4D array\n",
        "        if not np.array_equal(volume_3d, data[-1]):\n",
        "            file.write(',\\n')\n",
        "        else:\n",
        "            file.write('\\n')\n",
        "\n",
        "    file.write('}')\n",
        "\n"
      ]
    },
    {
      "cell_type": "markdown",
      "source": [
        "**A txt file will be obtained with the required array format**"
      ],
      "metadata": {
        "id": "-bd6oJHFbrq5"
      }
    },
    {
      "cell_type": "markdown",
      "source": [
        "**Code for 2d numpy arrays**"
      ],
      "metadata": {
        "id": "jYv4WsU4H_wc"
      }
    },
    {
      "cell_type": "code",
      "source": [
        "import numpy as np\n",
        "\n",
        "# Load the 2D numpy array from the .npy file\n",
        "data = np.load('/content/w3.npy', allow_pickle=True)\n",
        "\n",
        "\n",
        "print(\"Shape of loaded array:\", data.shape)\n",
        "np.set_printoptions(threshold=np.inf)\n",
        "\n",
        "# Open a file for writing\n",
        "with open('w3.txt', 'w') as file:\n",
        "    file.write('{\\n')\n",
        "\n",
        "    # Iterate over each row in the 2D array\n",
        "    for i, row in enumerate(data):\n",
        "        file.write('\\t{ ')\n",
        "\n",
        "        # Write each value in the row\n",
        "        for j, value in enumerate(row):\n",
        "            file.write(str(value))\n",
        "\n",
        "            # Add comma if it's not the last element of the row\n",
        "            if j < len(row) - 1:\n",
        "                file.write(', ')\n",
        "\n",
        "        file.write('}')\n",
        "\n",
        "        # Add comma if it's not the last row in the 2D array\n",
        "        if i < len(data) - 1:\n",
        "            file.write(',\\n')\n",
        "        else:\n",
        "            file.write('\\n')\n",
        "\n",
        "    file.write('}')\n"
      ],
      "metadata": {
        "colab": {
          "base_uri": "https://localhost:8080/"
        },
        "id": "OHUWMj1vH6hb",
        "outputId": "0b4f90b0-999b-4b48-e4df-952b51b69d4f"
      },
      "execution_count": 2,
      "outputs": [
        {
          "output_type": "stream",
          "name": "stdout",
          "text": [
            "Shape of loaded array: (1000, 4096)\n"
          ]
        }
      ]
    }
  ]
}